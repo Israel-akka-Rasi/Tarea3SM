{
 "cells": [
  {
   "cell_type": "markdown",
   "id": "5fd8fe93-5734-4869-bc33-8cbb7888d197",
   "metadata": {},
   "source": [
    "# Configurar el repositorio de Github, conda y JupyterLab\n",
    "\n",
    "## 1 Crear un repositorio vacio de Github para la tarea y clonarlo en local\n",
    "\n",
    "Para este paso, inicio sesión en github y le doy a new para crear un nuevo repositorio, sin\n",
    "seleccionar ninguna opción ya que queremos que esté inicialmente vacío.\n",
    "\n",
    "Para clonarlo : `git clone https://github.com/Israel-akka-Rasi/Tarea3SM.git`\n",
    "\n",
    "## 2 Crear un entorno de conda para trabajar con el repositorio\n",
    "\n",
    "Para crear el entorno ejecuto el siguiente comando : `conda create --name entornoIsra`\n",
    "\n",
    "## 3 Añadir la carpeta .ipynb_checkpoints/ al .gitignore para ignorarla.\n",
    "\n",
    "En este paso, accedemos a la carpeta de nuestrro repositorio local y creamos el fichero gitignore con\n",
    "el comando : `sudo nano gitignore`\n",
    "\n",
    "Dentro de gitignore introducimos la carpeta que queremos que sea ignorada, en este\n",
    "caso : .ipynb_checkpoints/\n",
    "\n",
    "## 4 Activar el entorno conda creado.\n",
    "    \n",
    "Para activar el entorno : `conda activate entornoIsra`\n",
    "\n",
    "## 5 Instalar Python 3.10, ipykernel y JupyterLab en el entorno.\n",
    "\n",
    "Antes de nada, debemos asegurarnos de que nuestro entorno está activado.\n",
    "    \n",
    "- Para instalar Python 3.10 : `conda install python=3.10`\n",
    "- Para instalar ipykernel : `conda install ipykernel`\n",
    "- Para instalar JupyterLab : `conda install -c conda-forge jupyterlab`\n",
    "\n",
    "## 6 Añadir el entorno conda a los kernels de JupyterLab.\n",
    "    \n",
    "Para añadir el entorno al kernel de Jupyter : `python3 -m ipykernel install --user --name=entornoIsra`\n",
    "\n",
    "## 7 Instalar JupyterLab en el entorno conda.\n",
    "    \n",
    "Basta con ejecutar el comando : `conda install jupyter`\n",
    "\n",
    "## 8 Ejecutar JupyterLab y crear un notebook vacío, seleccionando como kernel el entorno de conda creado anteriormente.\n",
    "    \n",
    "Para ejecutar JupyterLab ejecutamos el comando : `jupyter-lab`\n",
    "\n",
    "Una vez dentro de jupyter-lab, creamos un notebook vacío y nos aparecerá la opción de escoger el\n",
    "kernel, donde selecciono el que creé previamente llamado entornoIsra\n",
    "\n",
    "![Seleccion de kernel](kernel.png)\n",
    "\n",
    "## 9 Juega con el notebook para familiarizarte con los tres tipos de celda: Code, Markdown, y Raw. Prueba a ejecutar códigos sencillos de Python.\n",
    "\n",
    "Este ejercicio se puede ver en el notebook llamado \"PruebaEj9\"\n"
   ]
  },
  {
   "cell_type": "markdown",
   "id": "a7352c82-d96a-4a53-bda3-bfac1c60c6a5",
   "metadata": {},
   "source": [
    "# Análisis de audio con Python y JupyterLab\n",
    "\n",
    "El primer paso es importar las librerias necesarias para poder trabajar con archivos de audio"
   ]
  },
  {
   "cell_type": "code",
   "execution_count": null,
   "id": "31ff5143-de8b-4175-873f-97bbded692c5",
   "metadata": {},
   "outputs": [],
   "source": [
    "# Importacion.\n",
    "# import librosa\n",
    "from scipy.io import wavfile\n",
    "import IPython\n",
    "import os\n",
    "import numpy as np\n"
   ]
  },
  {
   "cell_type": "markdown",
   "id": "ca2844c6-ada3-46e4-8ecd-4e7a4a109ed1",
   "metadata": {},
   "source": [
    "## Especificar directorios de entrada y salida\n",
    "\n",
    "En esta parte definimos el directorio donde tenemos los archivos de audio con los que trabajaremos y el directorio donde guardaremos los archivos que generemos."
   ]
  },
  {
   "cell_type": "code",
   "execution_count": null,
   "id": "d16c69f4-6fe0-46bc-b054-0b735d2e3c87",
   "metadata": {},
   "outputs": [],
   "source": [
    "#Directorios que usaremos\n",
    "cwd = os.getcwd()#Obtengo el directorio actual\n",
    "audio_input_path = os.path.join(cwd, os.path.join('audio', 'examples'))\n",
    "audio_output_path = os.path.join(cwd, os.path.join('audio', '_output'))\n",
    "print(f'Directorio con los audios de entrada: {audio_input_path}')\n",
    "print(f'Directorio donde guardaremos los audios generados: {audio_output_path}\\n')"
   ]
  },
  {
   "cell_type": "markdown",
   "id": "2531ac12-225a-478b-a15f-2b2a50e67c35",
   "metadata": {},
   "source": [
    "## Cargar el archivo de audio\n",
    "\n",
    "En este caso, cargaremos un archivo .wav, el cual es un archivo de audio sin comprimir (máxima calidad y gran tamaño de archivo). Típicamente utilizado en edición de audio debido a su fidelidad."
   ]
  },
  {
   "cell_type": "code",
   "execution_count": null,
   "id": "18685ec1-bec7-4ede-abf0-b673cdc3850b",
   "metadata": {},
   "outputs": [],
   "source": [
    "import librosa"
   ]
  },
  {
   "cell_type": "code",
   "execution_count": null,
   "id": "ddb8f499-66d8-4f74-90b4-fd5460c10f44",
   "metadata": {},
   "outputs": [],
   "source": [
    "#Cargamos el archivo de audio.\n",
    "filename = os.path.join(audio_input_path, 'interstellarStereo.wav')\n",
    "#audio_data, sample_rate = librosa.load(filename, sr=None, mono=False)\n",
    "sample_rate, audio_data = wavfile.read(filename) #Sample_rate = frecuencia de muestreo / audio_data = datos de audio\n",
    "print(f'Frecuencia de muestreo (sample rate): {sample_rate/1000} kHz')"
   ]
  },
  {
   "cell_type": "markdown",
   "id": "2dc51cfe-6a61-47b3-946b-7b72338b5b4a",
   "metadata": {},
   "source": [
    "A continuación, escucharemos dicho archivo de audio"
   ]
  },
  {
   "cell_type": "code",
   "execution_count": null,
   "id": "04be7d64-df33-43ed-9e99-05e7e6ff0cf7",
   "metadata": {},
   "outputs": [],
   "source": [
    "#Escuchar el audio\n",
    "IPython.display.Audio(audio_data.T, rate=sample_rate) # .T se pasa únicamente si es audio estéreo."
   ]
  },
  {
   "cell_type": "markdown",
   "id": "4590c90c-5a6d-427f-9677-4ba09384bb81",
   "metadata": {},
   "source": [
    "## Mostrar características de la onda\n",
    "\n",
    "Primero mostraremos las características de la onda en audio estéreo"
   ]
  },
  {
   "cell_type": "code",
   "execution_count": null,
   "id": "3b2f20d5-d4b8-426b-99ef-a124b240f372",
   "metadata": {},
   "outputs": [],
   "source": [
    "#Mostrar informacion (sonido estéreo = 2 canales).\n",
    "print('Datos de audio (estereo):')\n",
    "print(f'- Tamaño:     {audio_data.shape}')\n",
    "print(f'- 1º canal:   {audio_data[:5, 0]}...')\n",
    "print(f'- 2º canal:   {audio_data[:5, 1]}...')\n",
    "print(f'- Resolucion: {type(audio_data[0,0])}\\n')"
   ]
  },
  {
   "cell_type": "markdown",
   "id": "86260784-c1af-4245-b89f-f84f961737c9",
   "metadata": {},
   "source": [
    "Ahora mostraremos las características de la onda en audio mono, que se hará calculando la media por canal"
   ]
  },
  {
   "cell_type": "code",
   "execution_count": null,
   "id": "b495729f-0ab3-412b-bf73-cf53e60d8399",
   "metadata": {},
   "outputs": [],
   "source": [
    "#Calcular la media por canal para obtener un sonido mono.\n",
    "# Convertimos a mono mediante la media por canal (simplificacion).\n",
    "new_data_mono = audio_data.mean(axis=1)  # Column-wise.\n",
    "print('Nuevos datos de audio (mono):')\n",
    "print(f'- Nuevo tamaño: {new_data_mono.shape}')\n",
    "print(f'- Canal unico:  {new_data_mono[:5]}...')"
   ]
  },
  {
   "cell_type": "code",
   "execution_count": null,
   "id": "7a3e79f5-8d9f-4072-94c7-a6c1b1e60fd2",
   "metadata": {},
   "outputs": [],
   "source": [
    "# Mantenemos la misma resolucion que antes.\n",
    "new_data_mono = new_data_mono.astype(np.int16)\n",
    "print(f'- Resolucion:   {type(new_data_mono[0])}\\n')"
   ]
  },
  {
   "cell_type": "markdown",
   "id": "a7c1ba05-ce4c-4b8a-bcb0-9a561f377176",
   "metadata": {},
   "source": [
    "## Guardar el archivo pasado a sonido mono\n",
    "\n",
    "Este paso se hace para luego poder observar la diferencia entre ambos archivos de audio"
   ]
  },
  {
   "cell_type": "code",
   "execution_count": null,
   "id": "824bb936-633d-44f3-8706-3ef3f94d8c16",
   "metadata": {},
   "outputs": [],
   "source": [
    "# Guardamos el archivo mono a un fichero de tipo wav.\n",
    "wavfile.write(\n",
    "    filename=os.path.join(audio_output_path, 'interstellar-mono.wav'),\n",
    "    rate=sample_rate,\n",
    "    data=new_data_mono\n",
    ")"
   ]
  },
  {
   "cell_type": "code",
   "execution_count": null,
   "id": "9097a6fb-af69-438b-9963-660e1b490b0b",
   "metadata": {},
   "outputs": [],
   "source": [
    "#Volvemos a escucharlo, como es mono no le pasamos la .T\n",
    "IPython.display.Audio(new_data_mono, rate=sample_rate)"
   ]
  },
  {
   "cell_type": "markdown",
   "id": "c560be57-c5f8-4074-bf79-3bca60e9b223",
   "metadata": {},
   "source": [
    "Podemos observar que el tamaño se ha reducido a la mitad, pero manteniendo la frecuencia de muestreo"
   ]
  },
  {
   "cell_type": "code",
   "execution_count": null,
   "id": "ad5afa97-8bf0-4698-b460-05a12ddd56cf",
   "metadata": {},
   "outputs": [],
   "source": [
    "#Vemos la diferencia de tamaño en cada archivo\n",
    "!ls -sh audio/examples/interstellar.wav\n",
    "!ls -sh audio/_output/interstellar-mono.wav"
   ]
  },
  {
   "cell_type": "code",
   "execution_count": null,
   "id": "866aaa46-83f0-4848-a481-6e86925e964e",
   "metadata": {},
   "outputs": [],
   "source": [
    "#Frecuencia de muestreo\n",
    "print(f'Frecuencia de muestreo (sample rate): {sample_rate/1000} kHz\\n')"
   ]
  },
  {
   "cell_type": "markdown",
   "id": "66bacc80-cf1b-4dc6-b141-4e5a5c1c40f8",
   "metadata": {},
   "source": [
    "## Mostrar la gráfica en el dominio del tiempo para el audio mono y estéreo.\n",
    "\n",
    "El primer paso para este apartado es importar las librerías necesarias"
   ]
  },
  {
   "cell_type": "code",
   "execution_count": null,
   "id": "7f0821b6-03cf-4350-a4e7-9f46db2c7366",
   "metadata": {},
   "outputs": [],
   "source": [
    "import librosa\n",
    "import matplotlib.pyplot as plt"
   ]
  },
  {
   "cell_type": "markdown",
   "id": "8de77ea4-4242-48b0-8f5c-e5e69c91d039",
   "metadata": {},
   "source": [
    "Antes de empezar con las gráficas, es necesario guardar las rutas de nuestros archivos, además de cargar dichos archivos de audio y crear las figuras y los ejes que nos permitan representar las gráficas"
   ]
  },
  {
   "cell_type": "code",
   "execution_count": null,
   "id": "ddfa145b-acdc-4440-aac9-6278c842dbf5",
   "metadata": {},
   "outputs": [],
   "source": [
    "# Rutas a los archivos de audio\n",
    "ruta_audio_estereo = \"audio/examples/interstellarStereo.wav\"\n",
    "ruta_audio_mono = \"audio/_output/interstellar-mono.wav\"\n",
    "\n",
    "# Cargar archivos de audio\n",
    "audio_estereo, sample_rate_estereo = librosa.load(ruta_audio_estereo, sr=None, mono=False)\n",
    "audio_mono, sample_rate_mono = librosa.load(ruta_audio_mono, sr=None, mono=True)\n",
    "\n",
    "# Crear figuras y ejes\n",
    "fig, axs = plt.subplots(2, 1, figsize=(10, 8))\n",
    "\n",
    "# Gráfica para audio estéreo\n",
    "tiempo_estereo = librosa.times_like(audio_estereo)\n",
    "axs[0].plot(tiempo_estereo, audio_estereo[0], label='Canal Izquierdo')\n",
    "axs[0].plot(tiempo_estereo, audio_estereo[1], label='Canal Derecho')\n",
    "axs[0].set_title('Audio Estéreo')\n",
    "axs[0].set_xlabel('Tiempo (s)')\n",
    "axs[0].set_ylabel('Amplitud')\n",
    "axs[0].legend()\n",
    "\n",
    "# Gráfica para audio mono\n",
    "tiempo_mono = librosa.times_like(audio_mono)\n",
    "axs[1].plot(tiempo_mono, audio_mono)\n",
    "axs[1].set_title('Audio Mono')\n",
    "axs[1].set_xlabel('Tiempo (s)')\n",
    "axs[1].set_ylabel('Amplitud')\n",
    "\n",
    "# Ajustar el diseño de las subplots\n",
    "plt.tight_layout()\n",
    "\n",
    "# Mostrar las gráficas\n",
    "plt.show()"
   ]
  },
  {
   "cell_type": "markdown",
   "id": "3524f5c1-c2cb-4454-b975-801ea68a36e5",
   "metadata": {},
   "source": [
    "# Tarea 4\n",
    "## Mostrar la gráfica en el dominio del tiempo para el audio mono y estéreo.\n",
    "\n",
    "Este ejercicio lo realicé la semana anterior, se puede observar en el apartado anterior a este.\n",
    "\n",
    "## Explicar con tus palabras:\n",
    "### Frecuencia de muestreo\n",
    "\n",
    "Velocidad a la que tomamos las muestras de una onda.\n",
    "\n",
    "### Aliasing\n",
    "\n",
    "Deformación de la onda que se produce cuando tomamos menos de 2 muestras por ciclo.\n",
    "\n",
    "### Profundidad de bits\n",
    "\n",
    "La profundidad de bits se refiere a la cantidad de bits utilizados para representar la amplitud de una muestra.\n",
    "\n",
    "### Ancho de banda\n",
    "\n",
    "Como el ancho de banda = frecuencia de muestreo + profundidad de bits, se puede definir como el rango de frecuencias que abarca la onda.\n",
    "\n",
    "### Tasa de bits\n",
    "\n",
    "La tasa de bits se entiende como la cantidad de bits que se transmiten por unidad de tiempo.\n",
    "\n",
    "## Aplicar la Transformada de Fourier a un audio mono\n",
    "\n",
    "Primero importo las librerías necesarias."
   ]
  },
  {
   "cell_type": "code",
   "execution_count": null,
   "id": "27b780a9-878b-4e40-8f19-e5dcfd2e6571",
   "metadata": {},
   "outputs": [],
   "source": [
    "import numpy as np\n",
    "import scipy.io.wavfile as wavfile\n",
    "import matplotlib.pyplot as plt"
   ]
  },
  {
   "cell_type": "code",
   "execution_count": null,
   "id": "faff6ac0-46a3-40bc-9cff-bc17b5e291fe",
   "metadata": {},
   "outputs": [],
   "source": [
    "#Aplicar la transformada de Fourier y obtener la frecuencia para representar la gráfica\n",
    "Fs, audio = wavfile.read(\"audio/_output/interstellar-mono.wav\")\n",
    "n = len(audio)\n",
    "\n",
    "tf_audio = np.fft.fft(audio)\n",
    "abs_Fourier = np.absolute(tf_audio[:n//2])\n",
    "\n",
    "#Crear y mostrar la grafica\n",
    "plt.plot(np.linspace(0, Fs/2, n//2), abs_Fourier )\n",
    "plt.xlabel('Frecuencia (Hz)', labelpad=10)\n",
    "plt.ylabel('Amplitud', labelpad=10)\n",
    "plt.title('Transformada de Fourier a un audio mono')\n",
    "plt.show()\n"
   ]
  },
  {
   "cell_type": "markdown",
   "id": "c551e8dc-679d-4ed4-92d8-cb96e013eafb",
   "metadata": {},
   "source": [
    "## Calcular la energía del espectrograma y la frecuencia de corte eligiendo un epsilon \n"
   ]
  },
  {
   "cell_type": "code",
   "execution_count": null,
   "id": "69dcec03-d555-45e0-b259-a53c3369ef91",
   "metadata": {},
   "outputs": [],
   "source": [
    "# Definimos una lista con diferentes epsilons para ir probando\n",
    "eps = [1e-5, .02, .041, .063, .086, .101, .123]\n",
    "\n",
    "eps = eps[1]\n",
    "print(f'Epsilon: {eps}')\n",
    "\n",
    "#Calculo el valor de corte para esta energia\n",
    "energia_thr = (1 - eps) * np.sum(abs_Fourier)\n",
    "print(f'Valor de corte para la energia del espectro: {energia_thr}')\n",
    "\n",
    "energia = np.cumsum(abs_Fourier)\n",
    "\n",
    "frecuencias_eliminadas = energia_thr < energia\n",
    "print(f'Máscara: {frecuencias_eliminadas}')\n",
    "\n",
    "#Frecuencia f0 por la que cortamos el espectro\n",
    "f0 = (len(frecuencias_eliminadas) - np.sum(frecuencias_eliminadas)) * (Fs/2) / (n//2)\n",
    "print(f'Frecuencia de corte f0 (Hz): {int(f0)}')\n",
    "\n",
    "# Hacemos la grafica\n",
    "plt.axvline(f0, color='r')\n",
    "plt.plot(np.linspace(0, Fs/2, n//2), abs_Fourier)\n",
    "plt.ylabel('Amplitud')\n",
    "plt.xlabel('Frecuencia (Hz)')\n",
    "plt.show()"
   ]
  },
  {
   "cell_type": "markdown",
   "id": "c4348ada-d47f-4f04-87a6-6947f384a0c0",
   "metadata": {},
   "source": [
    "### Comentario sobre la gráfica\n",
    "\n",
    "A medida que voy variando epsilon, la barra roja vertical va cambiando de poisición. Esto se debe a que cada vez que cambio epsilon, se cambia tambien el umbral de energía acumulada que se utiliza para determinar la frecuencia de corte."
   ]
  },
  {
   "cell_type": "markdown",
   "id": "fc5e9ef3-8d3c-4864-ab8e-2794546a9cc5",
   "metadata": {},
   "source": [
    "## Comprimir la onda aplicando downsampling, donde el factor se obtiene a partir de la frecuencia de corte anteriormente calculada"
   ]
  },
  {
   "cell_type": "code",
   "execution_count": null,
   "id": "bc0eba0b-73d1-474c-bcca-a3d1a13f7898",
   "metadata": {},
   "outputs": [],
   "source": [
    "# Audio que vamos a comprimir\n",
    "audio_comprimido = \"interstellarComprimido.wav\"\n",
    "# Calculo el factor D\n",
    "D = int(Fs / f0)\n",
    "print(f'Factor de Downsampling: {D}')\n",
    "\n",
    "# Obtengo los nuevos datos\n",
    "nuevos_datos = audio[::D]\n",
    "\n",
    "# Escribo los nuevos datos a un archivo .wav\n",
    "wavfile.write(\n",
    "    filename=os.path.join(audio_output_path, audio_comprimido),\n",
    "    rate=int(Fs/D),\n",
    "    data=nuevos_datos\n",
    ")\n",
    "\n",
    "# Cargo el nuevo archivo\n",
    "new_sample_rate, new_audio_data = wavfile.read(filename=os.path.join(audio_output_path, audio_comprimido))"
   ]
  },
  {
   "cell_type": "markdown",
   "id": "3bacc3a8-006f-4aa9-bf66-d188983252f4",
   "metadata": {},
   "source": [
    "Ahora vamos a escuchar el audio"
   ]
  },
  {
   "cell_type": "code",
   "execution_count": null,
   "id": "4d27b6bd-ebbd-4d32-b7d8-cf324563b91c",
   "metadata": {},
   "outputs": [],
   "source": [
    "IPython.display.Audio(new_audio_data, rate=new_sample_rate)"
   ]
  },
  {
   "cell_type": "markdown",
   "id": "716a7af8-95b8-4572-9c64-4de239106831",
   "metadata": {},
   "source": [
    "## Mostrar el espectrograma de ambas ondas"
   ]
  },
  {
   "cell_type": "code",
   "execution_count": null,
   "id": "af650e49-8ae2-4c89-818d-ecaab9a0ce69",
   "metadata": {},
   "outputs": [],
   "source": [
    "fig, ax = plt.subplots(2, 1, figsize=(12, 8), sharex=True)\n",
    "\n",
    "Pxx, freqs, bins, im = ax[0].specgram(audio, NFFT=1024, Fs=sample_rate, noverlap=512)\n",
    "ax[0].set_title('Espectograma del audio original')\n",
    "ax[0].set_ylabel('Frecuencia (Hz)')\n",
    "ax[0].grid(True)\n",
    "\n",
    "Pxx, freqs, bins, im = ax[1].specgram(new_audio_data, NFFT=1024, Fs=new_sample_rate, noverlap=512)\n",
    "ax[1].set_title('Espectrograma del audio reducido/comprimido')\n",
    "ax[1].set_xlabel('Tiempo (s)')\n",
    "ax[1].set_ylabel('Frecuencia (Hz)')\n",
    "ax[1].grid(True)\n",
    "\n",
    "plt.tight_layout()\n",
    "plt.show()\n"
   ]
  },
  {
   "cell_type": "markdown",
   "id": "6f735a35-df83-4cc7-b49d-069fcbb9ac98",
   "metadata": {},
   "source": [
    "## Mostrar el tamaño de los archivos"
   ]
  },
  {
   "cell_type": "code",
   "execution_count": null,
   "id": "f5b9309f-b70b-4537-b76b-a65fde47603e",
   "metadata": {},
   "outputs": [],
   "source": [
    "# Obtener el tamaño del archivo original en MB\n",
    "size_original_mb = os.path.getsize(os.path.join(audio_input_path, 'interstellarStereo.wav')) / (1024 * 1024)\n",
    "print(f'Tamaño del archivo original: {size_original_mb:.2f} MB')\n",
    "\n",
    "# Obtener el tamaño del archivo comprimido en MB\n",
    "size_comprimido_mb = os.path.getsize(os.path.join(audio_output_path, 'interstellarComprimido.wav')) / (1024 * 1024)\n",
    "print(f'Tamaño del archivo comprimido: {size_comprimido_mb:.2f} MB')"
   ]
  },
  {
   "cell_type": "markdown",
   "id": "4e6658c3-9349-404e-8acb-78a26985f726",
   "metadata": {},
   "source": [
    "## Colocar también dos widgets para reproducir los audios"
   ]
  },
  {
   "cell_type": "code",
   "execution_count": null,
   "id": "db104e21-14b0-4ac2-adfe-adb3a5f373ae",
   "metadata": {},
   "outputs": [],
   "source": [
    "import ipywidgets as widgets\n",
    "from IPython.display import display, Audio\n"
   ]
  },
  {
   "cell_type": "code",
   "execution_count": null,
   "id": "71f4fad8-3ece-4296-bab4-e07b969d4cff",
   "metadata": {},
   "outputs": [],
   "source": [
    "# Función para cargar y mostrar un archivo de audio\n",
    "def mostrar_audio(ruta):\n",
    "    display(Audio(filename=ruta))\n",
    "\n",
    "# Rutas a los archivos de audio\n",
    "ruta_audio_original = \"audio/examples/interstellarStereo.wav\"\n",
    "ruta_audio_comprimido = \"audio/_output/interstellarComprimido.wav\"\n",
    "\n",
    "# Crear widgets para reproducir los audios\n",
    "boton_audio_original = widgets.Button(description=\"Reproducir Audio Original\")\n",
    "boton_audio_comprimido = widgets.Button(description=\"Reproducir Audio Comprimido\")\n",
    "\n",
    "# Definir acciones al hacer clic en los botones\n",
    "def reproducir_audio_original(_):\n",
    "    mostrar_audio(ruta_audio_original)\n",
    "\n",
    "def reproducir_audio_comprimido(_):\n",
    "    mostrar_audio(ruta_audio_comprimido)\n",
    "\n",
    "boton_audio_original.on_click(reproducir_audio_original)\n",
    "boton_audio_comprimido.on_click(reproducir_audio_comprimido)\n",
    "\n",
    "# Mostrar los botones\n",
    "display(widgets.HBox([boton_audio_original, boton_audio_comprimido]))"
   ]
  },
  {
   "cell_type": "code",
   "execution_count": null,
   "id": "eb414d61-8c67-4755-b8e9-f1cd86fdc382",
   "metadata": {},
   "outputs": [],
   "source": []
  }
 ],
 "metadata": {
  "kernelspec": {
   "display_name": "Python 3 (ipykernel)",
   "language": "python",
   "name": "python3"
  },
  "language_info": {
   "codemirror_mode": {
    "name": "ipython",
    "version": 3
   },
   "file_extension": ".py",
   "mimetype": "text/x-python",
   "name": "python",
   "nbconvert_exporter": "python",
   "pygments_lexer": "ipython3",
   "version": "3.10.13"
  }
 },
 "nbformat": 4,
 "nbformat_minor": 5
}

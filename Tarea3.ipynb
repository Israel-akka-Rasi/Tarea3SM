{
 "cells": [
  {
   "cell_type": "markdown",
   "id": "5fd8fe93-5734-4869-bc33-8cbb7888d197",
   "metadata": {},
   "source": [
    "# Configurar el repositorio de Github, conda y JupyterLab\n",
    "\n",
    "## 1 Crear un repositorio vacio de Github para la tarea y clonarlo en local\n",
    "\n",
    "Para este paso, inicio sesión en github y le doy a new para crear un nuevo repositorio, sin\n",
    "seleccionar ninguna opción ya que queremos que esté inicialmente vacío.\n",
    "\n",
    "Para clonarlo : `git clone https://github.com/Israel-akka-Rasi/Tarea3SM.git`\n",
    "\n",
    "## 2 Crear un entorno de conda para trabajar con el repositorio\n",
    "\n",
    "Para crear el entorno ejecuto el siguiente comando : `conda create --name entornoIsra`\n",
    "\n",
    "## 3 Añadir la carpeta .ipynb_checkpoints/ al .gitignore para ignorarla.\n",
    "\n",
    "En este paso, accedemos a la carpeta de nuestrro repositorio local y creamos el fichero gitignore con\n",
    "el comando : `sudo nano gitignore`\n",
    "\n",
    "Dentro de gitignore introducimos la carpeta que queremos que sea ignorada, en este\n",
    "caso : .ipynb_checkpoints/\n",
    "\n",
    "## 4 Activar el entorno conda creado.\n",
    "    \n",
    "Para activar el entorno : `conda activate entornoIsra`\n",
    "\n",
    "## 5 Instalar Python 3.10, ipykernel y JupyterLab en el entorno.\n",
    "\n",
    "Antes de nada, debemos asegurarnos de que nuestro entorno está activado.\n",
    "    \n",
    "- Para instalar Python 3.10 : `conda install python=3.10`\n",
    "- Para instalar ipykernel : `conda install ipykernel`\n",
    "- Para instalar JupyterLab : `conda install -c conda-forge jupyterlab`\n",
    "\n",
    "## 6 Añadir el entorno conda a los kernels de JupyterLab.\n",
    "    \n",
    "Para añadir el entorno al kernel de Jupyter : `python3 -m ipykernel install --user --name=entornoIsra`\n",
    "\n",
    "## 7 Instalar JupyterLab en el entorno conda.\n",
    "    \n",
    "Basta con ejecutar el comando : `conda install jupyter`\n",
    "\n",
    "## 8 Ejecutar JupyterLab y crear un notebook vacío, seleccionando como kernel el entorno de conda creado anteriormente.\n",
    "    \n",
    "Para ejecutar JupyterLab ejecutamos el comando : `jupyter-lab`\n",
    "\n",
    "Una vez dentro de jupyter-lab, creamos un notebook vacío y nos aparecerá la opción de escoger el\n",
    "kernel, donde selecciono el que creé previamente llamado entornoIsra\n",
    "\n",
    "![Seleccion de kernel](kernel.png)\n",
    "\n",
    "## 9 Juega con el notebook para familiarizarte con los tres tipos de celda: Code, Markdown, y Raw. Prueba a ejecutar códigos sencillos de Python.\n",
    "\n",
    "Este ejercicio se puede ver en el notebook llamado \"PruebaEj9\"\n"
   ]
  },
  {
   "cell_type": "markdown",
   "id": "a7352c82-d96a-4a53-bda3-bfac1c60c6a5",
   "metadata": {},
   "source": [
    "# Análisis de audio con Python y JupyterLab\n",
    "\n",
    "El primer paso es importar las librerias necesarias para poder trabajar con archivos de audio"
   ]
  },
  {
   "cell_type": "code",
   "execution_count": null,
   "id": "31ff5143-de8b-4175-873f-97bbded692c5",
   "metadata": {},
   "outputs": [],
   "source": [
    "# Importacion.\n",
    "# import librosa\n",
    "from scipy.io import wavfile\n",
    "import IPython\n",
    "import os\n",
    "import numpy as np\n"
   ]
  },
  {
   "cell_type": "markdown",
   "id": "ca2844c6-ada3-46e4-8ecd-4e7a4a109ed1",
   "metadata": {},
   "source": [
    "## Especificar directorios de entrada y salida\n",
    "\n",
    "En esta parte definimos el directorio donde tenemos los archivos de audio con los que trabajaremos y el directorio donde guardaremos los archivos que generemos."
   ]
  },
  {
   "cell_type": "code",
   "execution_count": null,
   "id": "d16c69f4-6fe0-46bc-b054-0b735d2e3c87",
   "metadata": {},
   "outputs": [],
   "source": [
    "#Directorios que usaremos\n",
    "cwd = os.getcwd()#Obtengo el directorio actual\n",
    "audio_input_path = os.path.join(cwd, os.path.join('audio', 'examples'))\n",
    "audio_output_path = os.path.join(cwd, os.path.join('audio', '_output'))\n",
    "print(f'Directorio con los audios de entrada: {audio_input_path}')\n",
    "print(f'Directorio donde guardaremos los audios generados: {audio_output_path}\\n')"
   ]
  },
  {
   "cell_type": "markdown",
   "id": "2531ac12-225a-478b-a15f-2b2a50e67c35",
   "metadata": {},
   "source": [
    "## Cargar el archivo de audio\n",
    "\n",
    "En este caso, cargaremos un archivo .wav, el cual es un archivo de audio sin comprimir (máxima calidad y gran tamaño de archivo). Típicamente utilizado en edición de audio debido a su fidelidad."
   ]
  },
  {
   "cell_type": "code",
   "execution_count": null,
   "id": "ddb8f499-66d8-4f74-90b4-fd5460c10f44",
   "metadata": {},
   "outputs": [],
   "source": [
    "#Cargamos el archivo de audio.\n",
    "filename = os.path.join(audio_input_path, 'interstellar.wav')\n",
    "#audio_data, sample_rate = librosa.load(filename, sr=None, mono=False)\n",
    "sample_rate, audio_data = wavfile.read(filename) #Sample_rate = frecuencia de muestreo / audio_data = datos de audio\n",
    "print(f'Frecuencia de muestreo (sample rate): {sample_rate/1000} kHz')"
   ]
  },
  {
   "cell_type": "markdown",
   "id": "2dc51cfe-6a61-47b3-946b-7b72338b5b4a",
   "metadata": {},
   "source": [
    "A continuación, escucharemos dicho archivo de audio"
   ]
  },
  {
   "cell_type": "code",
   "execution_count": null,
   "id": "04be7d64-df33-43ed-9e99-05e7e6ff0cf7",
   "metadata": {},
   "outputs": [],
   "source": [
    "#Escuchar el audio\n",
    "IPython.display.Audio(audio_data.T, rate=sample_rate) # .T se pasa únicamente si es audio estéreo."
   ]
  },
  {
   "cell_type": "markdown",
   "id": "4590c90c-5a6d-427f-9677-4ba09384bb81",
   "metadata": {},
   "source": [
    "## Mostrar características de la onda\n",
    "\n",
    "Primero mostraremos las características de la onda en audio estéreo"
   ]
  },
  {
   "cell_type": "code",
   "execution_count": null,
   "id": "3b2f20d5-d4b8-426b-99ef-a124b240f372",
   "metadata": {},
   "outputs": [],
   "source": [
    "#Mostrar informacion (sonido estéreo = 2 canales).\n",
    "print('Datos de audio (estereo):')\n",
    "print(f'- Tamaño:     {audio_data.shape}')\n",
    "print(f'- 1º canal:   {audio_data[:5, 0]}...')\n",
    "print(f'- 2º canal:   {audio_data[:5, 1]}...')\n",
    "print(f'- Resolucion: {type(audio_data[0,0])}\\n')"
   ]
  },
  {
   "cell_type": "markdown",
   "id": "86260784-c1af-4245-b89f-f84f961737c9",
   "metadata": {},
   "source": [
    "Ahora mostraremos las características de la onda en audio mono, que se hará calculando la media por canal"
   ]
  },
  {
   "cell_type": "code",
   "execution_count": null,
   "id": "b495729f-0ab3-412b-bf73-cf53e60d8399",
   "metadata": {},
   "outputs": [],
   "source": [
    "#Calcular la media por canal para obtener un sonido mono.\n",
    "# Convertimos a mono mediante la media por canal (simplificacion).\n",
    "new_data_mono = audio_data.mean(axis=1)  # Column-wise.\n",
    "print('Nuevos datos de audio (mono):')\n",
    "print(f'- Nuevo tamaño: {new_data_mono.shape}')\n",
    "print(f'- Canal unico:  {new_data_mono[:5]}...')"
   ]
  },
  {
   "cell_type": "code",
   "execution_count": null,
   "id": "7a3e79f5-8d9f-4072-94c7-a6c1b1e60fd2",
   "metadata": {},
   "outputs": [],
   "source": [
    "# Mantenemos la misma resolucion que antes.\n",
    "new_data_mono = new_data_mono.astype(np.int16)\n",
    "print(f'- Resolucion:   {type(new_data_mono[0])}\\n')"
   ]
  },
  {
   "cell_type": "markdown",
   "id": "a7c1ba05-ce4c-4b8a-bcb0-9a561f377176",
   "metadata": {},
   "source": [
    "## Guardar el archivo pasado a sonido mono\n",
    "\n",
    "Este paso se hace para luego poder observar la diferencia entre ambos archivos de audio"
   ]
  },
  {
   "cell_type": "code",
   "execution_count": null,
   "id": "824bb936-633d-44f3-8706-3ef3f94d8c16",
   "metadata": {},
   "outputs": [],
   "source": [
    "# Guardamos el archivo mono a un fichero de tipo wav.\n",
    "wavfile.write(\n",
    "    filename=os.path.join(audio_output_path, 'interstellar-mono.wav'),\n",
    "    rate=sample_rate,\n",
    "    data=new_data_mono\n",
    ")"
   ]
  },
  {
   "cell_type": "code",
   "execution_count": null,
   "id": "9097a6fb-af69-438b-9963-660e1b490b0b",
   "metadata": {},
   "outputs": [],
   "source": [
    "#Volvemos a escucharlo, como es mono no le pasamos la .T\n",
    "IPython.display.Audio(new_data_mono, rate=sample_rate)"
   ]
  },
  {
   "cell_type": "markdown",
   "id": "c560be57-c5f8-4074-bf79-3bca60e9b223",
   "metadata": {},
   "source": [
    "Podemos observar que el tamaño se ha reducido a la mitad, pero manteniendo la frecuencia de muestreo"
   ]
  },
  {
   "cell_type": "code",
   "execution_count": null,
   "id": "ad5afa97-8bf0-4698-b460-05a12ddd56cf",
   "metadata": {},
   "outputs": [],
   "source": [
    "#Vemos la diferencia de tamaño en cada archivo\n",
    "!ls -sh audio/examples/interstellar.wav\n",
    "!ls -sh audio/_output/interstellar-mono.wav"
   ]
  },
  {
   "cell_type": "code",
   "execution_count": null,
   "id": "866aaa46-83f0-4848-a481-6e86925e964e",
   "metadata": {},
   "outputs": [],
   "source": [
    "#Frecuencia de muestreo\n",
    "print(f'Frecuencia de muestreo (sample rate): {sample_rate/1000} kHz\\n')"
   ]
  },
  {
   "cell_type": "markdown",
   "id": "66bacc80-cf1b-4dc6-b141-4e5a5c1c40f8",
   "metadata": {},
   "source": [
    "## Mostrar la gráfica en el dominio del tiempo para el audio mono y estéreo.\n",
    "\n",
    "El primer paso para este apartado es importar las librerías necesarias"
   ]
  },
  {
   "cell_type": "code",
   "execution_count": null,
   "id": "7f0821b6-03cf-4350-a4e7-9f46db2c7366",
   "metadata": {},
   "outputs": [],
   "source": [
    "import librosa\n",
    "import matplotlib.pyplot as plt"
   ]
  },
  {
   "cell_type": "markdown",
   "id": "8de77ea4-4242-48b0-8f5c-e5e69c91d039",
   "metadata": {},
   "source": [
    "Antes de empezar con las gráficas, es necesario guardar las rutas de nuestros archivos, además de cargar dichos archivos de audio y crear las figuras y los ejes que nos permitan representar las gráficas"
   ]
  },
  {
   "cell_type": "code",
   "execution_count": null,
   "id": "ddfa145b-acdc-4440-aac9-6278c842dbf5",
   "metadata": {},
   "outputs": [],
   "source": [
    "# Rutas a los archivos de audio\n",
    "ruta_audio_estereo = \"audio/examples/interstellar.wav\"\n",
    "ruta_audio_mono = \"audio/_output/interstellar-mono.wav\"\n",
    "\n",
    "# Cargar archivos de audio\n",
    "audio_estereo, sample_rate_estereo = librosa.load(ruta_audio_estereo, sr=None, mono=False)\n",
    "audio_mono, sample_rate_mono = librosa.load(ruta_audio_mono, sr=None, mono=True)\n",
    "\n",
    "# Crear figuras y ejes\n",
    "fig, axs = plt.subplots(2, 1, figsize=(10, 8))\n",
    "\n",
    "# Gráfica para audio estéreo\n",
    "tiempo_estereo = librosa.times_like(audio_estereo)\n",
    "axs[0].plot(tiempo_estereo, audio_estereo[0], label='Canal Izquierdo')\n",
    "axs[0].plot(tiempo_estereo, audio_estereo[1], label='Canal Derecho')\n",
    "axs[0].set_title('Audio Estéreo')\n",
    "axs[0].set_xlabel('Tiempo (s)')\n",
    "axs[0].set_ylabel('Amplitud')\n",
    "axs[0].legend()\n",
    "\n",
    "# Gráfica para audio mono\n",
    "tiempo_mono = librosa.times_like(audio_mono)\n",
    "axs[1].plot(tiempo_mono, audio_mono)\n",
    "axs[1].set_title('Audio Mono')\n",
    "axs[1].set_xlabel('Tiempo (s)')\n",
    "axs[1].set_ylabel('Amplitud')\n",
    "\n",
    "# Ajustar el diseño de las subplots\n",
    "plt.tight_layout()\n",
    "\n",
    "# Mostrar las gráficas\n",
    "plt.show()"
   ]
  }
 ],
 "metadata": {
  "kernelspec": {
   "display_name": "entornoIsra",
   "language": "python",
   "name": "entornoisra"
  },
  "language_info": {
   "codemirror_mode": {
    "name": "ipython",
    "version": 3
   },
   "file_extension": ".py",
   "mimetype": "text/x-python",
   "name": "python",
   "nbconvert_exporter": "python",
   "pygments_lexer": "ipython3",
   "version": "3.10.13"
  }
 },
 "nbformat": 4,
 "nbformat_minor": 5
}

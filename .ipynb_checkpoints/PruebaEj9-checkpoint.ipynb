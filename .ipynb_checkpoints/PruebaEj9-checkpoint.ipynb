{
 "cells": [
  {
   "cell_type": "code",
   "execution_count": 4,
   "id": "341eb4e8-7261-44bf-9cbe-bba4d2ce8330",
   "metadata": {},
   "outputs": [
    {
     "name": "stdout",
     "output_type": "stream",
     "text": [
      "La suma de  5  y  7  es:  12\n",
      "La multiplicación de  5  por  7  es:  35\n",
      "La lista entera\n",
      "['Inicio', 1, 2, 3, 4, 5, 6, 7, 8, 'Fin']\n",
      "Primer elemento de la lista\n",
      "Inicio\n",
      "4 primeros elementos de la lista\n",
      "['Inicio', 1, 2, 3]\n"
     ]
    }
   ],
   "source": [
    "#Celda de código (Code)\n",
    "a = 5\n",
    "b = 7\n",
    "suma = a + b\n",
    "mult = a * b\n",
    "print(\"La suma de \", a ,\" y \", b ,\" es: \", suma) \n",
    "print(\"La multiplicación de \", a ,\" por \", b ,\" es: \", mult) \n",
    "\n",
    "lista = [\"Inicio\" ,1, 2, 3, 4, 5, 6, 7, 8, \"Fin\"]\n",
    "print(\"La lista entera\")\n",
    "print(lista)\n",
    "print(\"Primer elemento de la lista\")\n",
    "print(lista[0])\n",
    "print(\"4 primeros elementos de la lista\")\n",
    "print(lista[0:4])"
   ]
  },
  {
   "cell_type": "markdown",
   "id": "a434b59c-5766-4163-88aa-5974720b97d9",
   "metadata": {},
   "source": [
    "# ESTE ES EL TÍTULO DE LA SECCIÓN\n",
    "\n",
    "Podemos observar cómo **usar la celda en Markdown**. Puedo crear una lista:\n",
    "\n",
    "- Elemento1\n",
    "- Elemento2\n",
    "- Elemento3\n",
    "\n",
    "También puedo usar fórmulas matemáticas: $E = mc^2$"
   ]
  },
  {
   "cell_type": "raw",
   "id": "63d2f8c7-9320-4a05-bb0f-eadb9d220c1c",
   "metadata": {},
   "source": [
    "Esta será una celda Raw, donde no se sigue ningun formato y simplemente sirve para añadir anotaciones o cualquier cosa que se necesite."
   ]
  }
 ],
 "metadata": {
  "kernelspec": {
   "display_name": "entornoIsra",
   "language": "python",
   "name": "entornoisra"
  },
  "language_info": {
   "codemirror_mode": {
    "name": "ipython",
    "version": 3
   },
   "file_extension": ".py",
   "mimetype": "text/x-python",
   "name": "python",
   "nbconvert_exporter": "python",
   "pygments_lexer": "ipython3",
   "version": "3.10.13"
  }
 },
 "nbformat": 4,
 "nbformat_minor": 5
}
